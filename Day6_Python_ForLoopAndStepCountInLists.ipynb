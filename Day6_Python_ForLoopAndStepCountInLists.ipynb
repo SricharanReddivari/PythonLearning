{
 "cells": [
  {
   "cell_type": "code",
   "execution_count": 1,
   "metadata": {},
   "outputs": [
    {
     "name": "stdout",
     "output_type": "stream",
     "text": [
      "['red', 'blue', 'green', 'yellow', 'black', 'white', 'grey']\n"
     ]
    }
   ],
   "source": [
    "colors = [\"red\",\"blue\",\"green\",\"yellow\",\"black\",\"white\",\"grey\"]\n",
    "print(colors)"
   ]
  },
  {
   "cell_type": "code",
   "execution_count": 2,
   "metadata": {},
   "outputs": [
    {
     "name": "stdout",
     "output_type": "stream",
     "text": [
      "['red', 'green', 'black', 'grey']\n"
     ]
    }
   ],
   "source": [
    "print(colors[0:7:2])"
   ]
  },
  {
   "cell_type": "code",
   "execution_count": 3,
   "metadata": {},
   "outputs": [
    {
     "name": "stdout",
     "output_type": "stream",
     "text": [
      "['red', 'yellow', 'grey']\n"
     ]
    }
   ],
   "source": [
    "print(colors[0:7:3])"
   ]
  },
  {
   "cell_type": "code",
   "execution_count": 4,
   "metadata": {},
   "outputs": [
    {
     "name": "stdout",
     "output_type": "stream",
     "text": [
      "I like red color\n",
      "I like blue color\n",
      "I like green color\n",
      "I like yellow color\n",
      "I like black color\n",
      "I like white color\n",
      "I like grey color\n"
     ]
    }
   ],
   "source": [
    "for x in colors:\n",
    "    print(f\"I like {x} color\")"
   ]
  },
  {
   "cell_type": "code",
   "execution_count": 6,
   "metadata": {},
   "outputs": [
    {
     "name": "stdout",
     "output_type": "stream",
     "text": [
      "I know I like the color RED\n",
      "I know I like the color BLUE\n",
      "I know I like the color GREEN\n",
      "I know I like the color YELLOW\n",
      "I know I like the color BLACK\n",
      "I know I like the color WHITE\n",
      "I know I like the color GREY\n"
     ]
    }
   ],
   "source": [
    "for x in colors:\n",
    "    print(f\"I know I like the color {x.upper()}\")"
   ]
  },
  {
   "cell_type": "code",
   "execution_count": 8,
   "metadata": {},
   "outputs": [
    {
     "name": "stdout",
     "output_type": "stream",
     "text": [
      "I like the color RED\n",
      "I like the color BLUE\n",
      "I like the color GREEN\n",
      "I like the color YELLOW\n",
      "I like the color BLACK\n",
      "I like the color WHITE\n",
      "I like the color GREY\n"
     ]
    }
   ],
   "source": [
    "for x in colors:\n",
    "    print(\"I like the color \"+x.upper())"
   ]
  },
  {
   "cell_type": "code",
   "execution_count": 12,
   "metadata": {},
   "outputs": [
    {
     "name": "stdout",
     "output_type": "stream",
     "text": [
      "Hi SRICHARAN, How are you\n",
      "Hope you are doing good SRICHARAN\n",
      "\n",
      "Hi FAIYAZ, How are you\n",
      "Hope you are doing good FAIYAZ\n",
      "\n",
      "Hi MANSOOR, How are you\n",
      "Hope you are doing good MANSOOR\n",
      "\n",
      "Hi VIJAY, How are you\n",
      "Hope you are doing good VIJAY\n",
      "\n"
     ]
    }
   ],
   "source": [
    "students=['Sricharan','Faiyaz','Mansoor','Vijay']\n",
    "for x in students:\n",
    "    print(f\"Hi {x.upper()}, How are you\")\n",
    "    print(f\"Hope you are doing good {x.upper()}\\n\")"
   ]
  },
  {
   "cell_type": "code",
   "execution_count": null,
   "metadata": {},
   "outputs": [],
   "source": []
  }
 ],
 "metadata": {
  "kernelspec": {
   "display_name": "Python 3",
   "language": "python",
   "name": "python3"
  },
  "language_info": {
   "codemirror_mode": {
    "name": "ipython",
    "version": 3
   },
   "file_extension": ".py",
   "mimetype": "text/x-python",
   "name": "python",
   "nbconvert_exporter": "python",
   "pygments_lexer": "ipython3",
   "version": "3.7.4"
  }
 },
 "nbformat": 4,
 "nbformat_minor": 2
}
