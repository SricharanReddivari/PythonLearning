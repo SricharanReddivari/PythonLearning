{
 "cells": [
  {
   "cell_type": "code",
   "execution_count": 1,
   "metadata": {},
   "outputs": [
    {
     "name": "stdout",
     "output_type": "stream",
     "text": [
      "Audi\n",
      "BMW\n",
      "Toyota\n",
      "Ford\n",
      "Maruthi\n"
     ]
    }
   ],
   "source": [
    "cars = [\"audi\",\"bmw\",\"toyota\",\"ford\",\"maruthi\"]\n",
    "for x in cars:\n",
    "    if x == 'bmw':\n",
    "        print(x.upper())\n",
    "    else:\n",
    "        print(x.title())"
   ]
  },
  {
   "cell_type": "code",
   "execution_count": 2,
   "metadata": {},
   "outputs": [
    {
     "name": "stdout",
     "output_type": "stream",
     "text": [
      "Enter your message and I will repeat it for you:Sricharan\n",
      "Sricharan\n"
     ]
    }
   ],
   "source": [
    "message = input(\"Enter your message and I will repeat it for you:\")\n",
    "print(message)"
   ]
  },
  {
   "cell_type": "code",
   "execution_count": 5,
   "metadata": {},
   "outputs": [
    {
     "name": "stdout",
     "output_type": "stream",
     "text": [
      "Enter your age 29\n"
     ]
    },
    {
     "data": {
      "text/plain": [
       "str"
      ]
     },
     "execution_count": 5,
     "metadata": {},
     "output_type": "execute_result"
    }
   ],
   "source": [
    "age = input(\"Enter your age \")\n",
    "type(age)"
   ]
  },
  {
   "cell_type": "code",
   "execution_count": 6,
   "metadata": {},
   "outputs": [
    {
     "name": "stdout",
     "output_type": "stream",
     "text": [
      "Enter your age 29\n"
     ]
    },
    {
     "data": {
      "text/plain": [
       "int"
      ]
     },
     "execution_count": 6,
     "metadata": {},
     "output_type": "execute_result"
    }
   ],
   "source": [
    "age = input(\"Enter your age \")\n",
    "age = int(age)\n",
    "type(age)"
   ]
  },
  {
   "cell_type": "code",
   "execution_count": 8,
   "metadata": {},
   "outputs": [
    {
     "name": "stdout",
     "output_type": "stream",
     "text": [
      "Tell me how old are you\n",
      " I will tell if you are eligble for voting:12\n",
      "12\n",
      "12\n",
      "Not Eligible to vote as you are 12 years old\n"
     ]
    }
   ],
   "source": [
    "message1 = \"Tell me how old are you\"\n",
    "message1 += \"\\n I will tell if you are eligble for voting:\"\n",
    "age1=input(message1)\n",
    "print(age1)\n",
    "age1=int(age1)\n",
    "print(age1)\n",
    "if age1>=18:\n",
    "    print(f\"Eligible to vote as you are {age1} years old\")\n",
    "else:\n",
    "    print(f\"Not Eligible to vote as you are {age1} years old\")\n"
   ]
  },
  {
   "cell_type": "code",
   "execution_count": 9,
   "metadata": {},
   "outputs": [
    {
     "name": "stdout",
     "output_type": "stream",
     "text": [
      "Tell me how old are you\n",
      " I will tell if you are eligble for voting:29\n",
      "29\n",
      "29\n",
      "Eligible to vote as you are 29 years old\n"
     ]
    }
   ],
   "source": [
    "message1 = \"Tell me how old are you\"\n",
    "message1 += \"\\n I will tell if you are eligble for voting:\"\n",
    "age1=input(message1)\n",
    "print(age1)\n",
    "age1=int(age1)\n",
    "print(age1)\n",
    "if age1>=18:\n",
    "    print(f\"Eligible to vote as you are {age1} years old\")\n",
    "else:\n",
    "    print(f\"Not Eligible to vote as you are {age1} years old\")\n"
   ]
  },
  {
   "cell_type": "code",
   "execution_count": 10,
   "metadata": {},
   "outputs": [
    {
     "name": "stdout",
     "output_type": "stream",
     "text": [
      "1\n",
      "2\n",
      "3\n",
      "4\n"
     ]
    }
   ],
   "source": [
    "curr_no = 1\n",
    "while curr_no < 5:\n",
    "    print(curr_no)\n",
    "    curr_no += 1"
   ]
  },
  {
   "cell_type": "code",
   "execution_count": null,
   "metadata": {},
   "outputs": [],
   "source": []
  }
 ],
 "metadata": {
  "kernelspec": {
   "display_name": "Python 3",
   "language": "python",
   "name": "python3"
  },
  "language_info": {
   "codemirror_mode": {
    "name": "ipython",
    "version": 3
   },
   "file_extension": ".py",
   "mimetype": "text/x-python",
   "name": "python",
   "nbconvert_exporter": "python",
   "pygments_lexer": "ipython3",
   "version": "3.7.4"
  }
 },
 "nbformat": 4,
 "nbformat_minor": 2
}
