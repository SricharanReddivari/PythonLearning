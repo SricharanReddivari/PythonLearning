{
 "cells": [
  {
   "cell_type": "code",
   "execution_count": 2,
   "metadata": {},
   "outputs": [
    {
     "name": "stdout",
     "output_type": "stream",
     "text": [
      "Sri Charan Reddivari\n"
     ]
    }
   ],
   "source": [
    "f_name = \"Sri Charan\"\n",
    "l_name = \"Reddivari\"\n",
    "full_name = f\"{f_name} {l_name}\"\n",
    "print(full_name)"
   ]
  },
  {
   "cell_type": "code",
   "execution_count": 4,
   "metadata": {},
   "outputs": [
    {
     "name": "stdout",
     "output_type": "stream",
     "text": [
      "Hello sricharan reddivari\n"
     ]
    }
   ],
   "source": [
    "f_name = \"sricharan\"\n",
    "l_name = \"reddivari\"\n",
    "full_name = f\"Hello {f_name} {l_name}\"\n",
    "print(full_name)"
   ]
  },
  {
   "cell_type": "code",
   "execution_count": 5,
   "metadata": {},
   "outputs": [
    {
     "name": "stdout",
     "output_type": "stream",
     "text": [
      "Hello Sricharan Reddivari\n"
     ]
    }
   ],
   "source": [
    "f_name = \"sricharan\"\n",
    "l_name = \"reddivari\"\n",
    "full_name = f\"hello {f_name} {l_name}\"\n",
    "print(full_name.title())"
   ]
  },
  {
   "cell_type": "code",
   "execution_count": 6,
   "metadata": {},
   "outputs": [
    {
     "name": "stdout",
     "output_type": "stream",
     "text": [
      "Hello Sricharan Reddivari , How Are You\n"
     ]
    }
   ],
   "source": [
    "f_name = \"sricharan\"\n",
    "l_name = \"reddivari\"\n",
    "full_name = f\"hello {f_name} {l_name} , how are you\"\n",
    "print(full_name.title())"
   ]
  },
  {
   "cell_type": "code",
   "execution_count": 7,
   "metadata": {},
   "outputs": [
    {
     "name": "stdout",
     "output_type": "stream",
     "text": [
      "Hello Sricharan Reddivari , How Are You\n"
     ]
    }
   ],
   "source": [
    "f_name = \"sricharan\"\n",
    "l_name = \"reddivari\"\n",
    "full_name = f\"{f_name} {l_name} , how are you\"\n",
    "print(\"Hello \"+full_name.title())"
   ]
  },
  {
   "cell_type": "code",
   "execution_count": 8,
   "metadata": {},
   "outputs": [
    {
     "name": "stdout",
     "output_type": "stream",
     "text": [
      "Hello Sricharan Reddivari, How are you\n"
     ]
    }
   ],
   "source": [
    "f_name = \"sricharan\"\n",
    "l_name = \"reddivari\"\n",
    "full_name = f\"{f_name} {l_name}\"\n",
    "print(\"Hello \"+full_name.title()+\", How are you\")"
   ]
  },
  {
   "cell_type": "code",
   "execution_count": 9,
   "metadata": {},
   "outputs": [
    {
     "name": "stdout",
     "output_type": "stream",
     "text": [
      "Hello Sricharan Reddivari\n",
      "How are you\n"
     ]
    }
   ],
   "source": [
    "f_name = \"sricharan\"\n",
    "l_name = \"reddivari\"\n",
    "full_name = f\"{f_name} {l_name}\"\n",
    "print(\"Hello \"+full_name.title()+\"\\nHow are you\")"
   ]
  },
  {
   "cell_type": "code",
   "execution_count": 10,
   "metadata": {},
   "outputs": [
    {
     "name": "stdout",
     "output_type": "stream",
     "text": [
      "Hello\tSricharan Reddivari\n",
      "How are you\n"
     ]
    }
   ],
   "source": [
    "f_name = \"sricharan\"\n",
    "l_name = \"reddivari\"\n",
    "full_name = f\"{f_name} {l_name}\"\n",
    "print(\"Hello\\t\"+full_name.title()+\"\\nHow are you\")"
   ]
  },
  {
   "cell_type": "code",
   "execution_count": 11,
   "metadata": {},
   "outputs": [
    {
     "name": "stdout",
     "output_type": "stream",
     "text": [
      "  sricharan reddivari\n"
     ]
    }
   ],
   "source": [
    "f_name = \"  sricharan\"\n",
    "l_name = \"reddivari\"\n",
    "full_name = f\"{f_name} {l_name}\"\n",
    "print(full_name)"
   ]
  },
  {
   "cell_type": "code",
   "execution_count": 12,
   "metadata": {},
   "outputs": [
    {
     "name": "stdout",
     "output_type": "stream",
     "text": [
      "sricharan reddivari\n"
     ]
    }
   ],
   "source": [
    "f_name = \"  sricharan\"\n",
    "l_name = \"reddivari\"\n",
    "full_name = f\"{f_name} {l_name}\"\n",
    "print(full_name.lstrip())"
   ]
  },
  {
   "cell_type": "code",
   "execution_count": 13,
   "metadata": {},
   "outputs": [
    {
     "name": "stdout",
     "output_type": "stream",
     "text": [
      "sricharan reddivari\n"
     ]
    }
   ],
   "source": [
    "f_name = \"sricharan\"\n",
    "l_name = \"reddivari   \"\n",
    "full_name = f\"{f_name} {l_name}\"\n",
    "print(full_name.rstrip())"
   ]
  },
  {
   "cell_type": "code",
   "execution_count": 14,
   "metadata": {},
   "outputs": [
    {
     "name": "stdout",
     "output_type": "stream",
     "text": [
      "sricharan reddivari\n"
     ]
    }
   ],
   "source": [
    "f_name = \"  sricharan\"\n",
    "l_name = \"reddivari  \"\n",
    "full_name = f\"{f_name} {l_name}\"\n",
    "print(full_name.strip())"
   ]
  },
  {
   "cell_type": "code",
   "execution_count": null,
   "metadata": {},
   "outputs": [],
   "source": []
  }
 ],
 "metadata": {
  "kernelspec": {
   "display_name": "Python 3",
   "language": "python",
   "name": "python3"
  },
  "language_info": {
   "codemirror_mode": {
    "name": "ipython",
    "version": 3
   },
   "file_extension": ".py",
   "mimetype": "text/x-python",
   "name": "python",
   "nbconvert_exporter": "python",
   "pygments_lexer": "ipython3",
   "version": "3.7.4"
  }
 },
 "nbformat": 4,
 "nbformat_minor": 2
}
